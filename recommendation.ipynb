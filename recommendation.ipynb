{
 "cells": [
  {
   "cell_type": "markdown",
   "metadata": {},
   "source": [
    "# Content-Based Movie Recommendation System"
   ]
  },
  {
   "cell_type": "code",
   "execution_count": 1,
   "metadata": {},
   "outputs": [
    {
     "name": "stderr",
     "output_type": "stream",
     "text": [
      "/Library/Frameworks/Python.framework/Versions/3.12/lib/python3.12/site-packages/torch/utils/_pytree.py:185: FutureWarning: optree is installed but the version is too old to support PyTorch Dynamo in C++ pytree. C++ pytree support is disabled. Please consider upgrading optree using `python3 -m pip install --upgrade 'optree>=0.13.0'`.\n",
      "  warnings.warn(\n"
     ]
    }
   ],
   "source": [
    "import pandas as pd\n",
    "import numpy as np\n",
    "import re\n",
    "from nltk.corpus import stopwords\n",
    "from sklearn.feature_extraction.text import TfidfVectorizer\n",
    "from sklearn.metrics.pairwise import cosine_similarity\n",
    "from sentence_transformers import SentenceTransformer\n",
    "import ipywidgets as widgets\n",
    "from IPython.display import display, HTML\n"
   ]
  },
  {
   "cell_type": "markdown",
   "metadata": {},
   "source": [
    "### Dataset\n",
    "For the dataset, I have used a wikiPedia dataset, which has the movie name, origin, director, plot, etc, but I have extracted only movie name and the plot, where we will use the plot to align with the user input"
   ]
  },
  {
   "cell_type": "code",
   "execution_count": 2,
   "metadata": {},
   "outputs": [],
   "source": [
    "# Load Dataset\n",
    "df = pd.read_csv('dataset/wiki_movie_plots_deduped.csv')\n",
    "# Keep only relevant columns, drop null values\n",
    "df = df[['Title', 'Plot']].dropna().head(500)"
   ]
  },
  {
   "cell_type": "markdown",
   "metadata": {},
   "source": [
    "### Methodology\n",
    "The text is forst preprocessed in order to remove stopwords and special characters, and all the data is converted into lowercase.\n",
    "For the content-based recommendation, the main 2 methods that I have used are the TF-IDF vectorizer and the SBERT methods\n",
    "- TF-IDF as a method that finds the most important words in a text and assigns weights to them, so unique words can help identify certain genres of movies, and align with the user input\n",
    "\n",
    "- Sentence-BERT (SBERT) is a version of BERT (a deep learning model trained on massive data) designed to find similarities between entire sentences, instead of just words, and it finds similarities between the sentences using cosine similarity."
   ]
  },
  {
   "cell_type": "code",
   "execution_count": 3,
   "metadata": {},
   "outputs": [],
   "source": [
    "# Preprocess the text, coversion to lowercase, removing special characters and stopwords\n",
    "def preprocess_text(text):\n",
    "    text = text.lower()\n",
    "    text = re.sub(r'[^a-zA-Z0-9\\s]', '', text)\n",
    "    stop_words = set(stopwords.words('english'))\n",
    "    text = ' '.join([word for word in text.split() if word not in stop_words])\n",
    "\n",
    "    return text\n",
    "df['Processed_Plot'] = df['Plot'].apply(preprocess_text)\n",
    "\n",
    "#Compute TF-IDF and Cosine Similarity.\n",
    "def compute_tfidf_similarity(user_query, df):\n",
    "    vectorizer = TfidfVectorizer(stop_words='english')\n",
    "    tfidf_matrix = vectorizer.fit_transform(df['Processed_Plot'])\n",
    "    user_vector = vectorizer.transform([user_query])\n",
    "    similarity_scores = cosine_similarity(user_vector, tfidf_matrix).flatten()\n",
    "    return similarity_scores\n",
    "\n",
    "#Compute SBERT embeddings and similarity\n",
    "def compute_sbert_similarity(user_query, df):\n",
    "    sbert_model = SentenceTransformer('all-MiniLM-L6-v2')\n",
    "    embeddings = sbert_model.encode(df['Processed_Plot'].tolist())\n",
    "    user_embedding = sbert_model.encode([user_query])\n",
    "    similarity_scores = cosine_similarity(user_embedding, embeddings).flatten()\n",
    "    return similarity_scores\n",
    "\n",
    "    \n",
    "# Hybrid approach combining TF-IDF and SBERT similarity, using weighted combination of similarity scores\n",
    "def recommend_movies(user_query, df, top_n=5, weight_tfidf=0.5, weight_sbert=0.5):\n",
    "    tfidf_scores = compute_tfidf_similarity(user_query, df)\n",
    "    sbert_scores = compute_sbert_similarity(user_query, df)\n",
    "    \n",
    "    # Normalize scores\n",
    "    def scale_scores(scores):\n",
    "        return (scores - np.min(scores)) / (np.max(scores) - np.min(scores)) if np.max(scores) != np.min(scores) else scores\n",
    "\n",
    "    tfidf_scores = scale_scores(tfidf_scores)\n",
    "    sbert_scores = scale_scores(sbert_scores)\n",
    "\n",
    "    # Weighted sum of similarities\n",
    "    final_scores = (weight_tfidf * tfidf_scores) + (weight_sbert * sbert_scores)\n",
    "    top_indices = np.argsort(final_scores)[::-1][:top_n]\n",
    "    recommendations = df.iloc[top_indices][['Title']]\n",
    "    recommendations['Similarity Score'] = final_scores[top_indices]\n",
    "    return recommendations"
   ]
  },
  {
   "cell_type": "markdown",
   "metadata": {},
   "source": [
    "### User Input and Output "
   ]
  },
  {
   "cell_type": "code",
   "execution_count": 4,
   "metadata": {},
   "outputs": [
    {
     "data": {
      "application/vnd.jupyter.widget-view+json": {
       "model_id": "8b066384cf6c44639e6d6224d87b54f7",
       "version_major": 2,
       "version_minor": 0
      },
      "text/plain": [
       "Textarea(value='', layout=Layout(height='100px', width='80%'), placeholder='Enter a description of the movie y…"
      ]
     },
     "metadata": {},
     "output_type": "display_data"
    },
    {
     "data": {
      "application/vnd.jupyter.widget-view+json": {
       "model_id": "3fe20d73c0924302973bd24b84a48bc4",
       "version_major": 2,
       "version_minor": 0
      },
      "text/plain": [
       "Button(button_style='success', description='Recommend!', style=ButtonStyle())"
      ]
     },
     "metadata": {},
     "output_type": "display_data"
    },
    {
     "data": {
      "application/vnd.jupyter.widget-view+json": {
       "model_id": "3f8237c8fbde4affb5f3f687cb26dbdd",
       "version_major": 2,
       "version_minor": 0
      },
      "text/plain": [
       "Output()"
      ]
     },
     "metadata": {},
     "output_type": "display_data"
    }
   ],
   "source": [
    "# Interactive Widget for Input Query\n",
    "query_input = widgets.Textarea(\n",
    "    placeholder='Enter a description of the movie you like',\n",
    "    layout=widgets.Layout(width='80%', height='100px')\n",
    ")\n",
    "\n",
    "output_area = widgets.Output()\n",
    "\n",
    "def on_button_click(b):\n",
    "    user_query = query_input.value\n",
    "    results = recommend_movies(user_query, df)\n",
    "\n",
    "    # Format output in HTML table for better display\n",
    "    with output_area:\n",
    "        output_area.clear_output()\n",
    "        display(HTML(results.to_html(index=False)))\n",
    "\n",
    "button = widgets.Button(description=\"Recommend!\", button_style='success')\n",
    "button.on_click(on_button_click)\n",
    "\n",
    "display(query_input, button, output_area)"
   ]
  }
 ],
 "metadata": {
  "kernelspec": {
   "display_name": "Python 3",
   "language": "python",
   "name": "python3"
  },
  "language_info": {
   "codemirror_mode": {
    "name": "ipython",
    "version": 3
   },
   "file_extension": ".py",
   "mimetype": "text/x-python",
   "name": "python",
   "nbconvert_exporter": "python",
   "pygments_lexer": "ipython3",
   "version": "3.12.0"
  }
 },
 "nbformat": 4,
 "nbformat_minor": 2
}
